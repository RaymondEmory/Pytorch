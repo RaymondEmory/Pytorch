{
  "nbformat": 4,
  "nbformat_minor": 0,
  "metadata": {
    "colab": {
      "provenance": [],
      "collapsed_sections": [],
      "include_colab_link": true
    },
    "kernelspec": {
      "name": "python3",
      "display_name": "Python 3"
    },
    "accelerator": "GPU"
  },
  "cells": [
    {
      "cell_type": "markdown",
      "metadata": {
        "id": "view-in-github",
        "colab_type": "text"
      },
      "source": [
        "<a href=\"https://colab.research.google.com/github/RaymondEmory/Pytorch/blob/main/Custom_PyTorch_Text_Classification_RNN_Predictions_(v3).ipynb\" target=\"_parent\"><img src=\"https://colab.research.google.com/assets/colab-badge.svg\" alt=\"Open In Colab\"/></a>"
      ]
    },
    {
      "cell_type": "code",
      "metadata": {
        "id": "X0N0Bt07QdQm"
      },
      "source": [
        "import torch\n",
        "import torch.nn as nn\n",
        "import numpy as np\n",
        "import pandas as pd\n",
        "import matplotlib.pyplot as plt\n",
        "from datetime import datetime\n",
        "\n",
        "from sklearn.model_selection import train_test_split\n",
        "from sklearn.utils import shuffle"
      ],
      "execution_count": null,
      "outputs": []
    },
    {
      "cell_type": "code",
      "metadata": {
        "id": "LLRmg9rHQrJ6",
        "colab": {
          "base_uri": "https://localhost:8080/"
        },
        "outputId": "7864dad7-83d8-48ea-f366-e00cd8ec746f"
      },
      "source": [
        "# Unfortunately this URL doesn't work directly with pd.read_csv\n",
        "!wget -nc https://lazyprogrammer.me/course_files/spam.csv"
      ],
      "execution_count": null,
      "outputs": [
        {
          "output_type": "stream",
          "text": [
            "--2021-07-24 19:07:44--  https://lazyprogrammer.me/course_files/spam.csv\n",
            "Resolving lazyprogrammer.me (lazyprogrammer.me)... 104.21.23.210, 172.67.213.166, 2606:4700:3030::ac43:d5a6, ...\n",
            "Connecting to lazyprogrammer.me (lazyprogrammer.me)|104.21.23.210|:443... connected.\n",
            "HTTP request sent, awaiting response... 200 OK\n",
            "Length: 503663 (492K) [text/csv]\n",
            "Saving to: ‘spam.csv’\n",
            "\n",
            "\rspam.csv              0%[                    ]       0  --.-KB/s               \rspam.csv            100%[===================>] 491.86K  --.-KB/s    in 0.1s    \n",
            "\n",
            "2021-07-24 19:07:44 (4.11 MB/s) - ‘spam.csv’ saved [503663/503663]\n",
            "\n"
          ],
          "name": "stdout"
        }
      ]
    },
    {
      "cell_type": "code",
      "metadata": {
        "id": "btqRaC3Xw8fE",
        "colab": {
          "base_uri": "https://localhost:8080/"
        },
        "outputId": "c545e30f-787d-46e7-a411-f0f03856fa10"
      },
      "source": [
        "#bad formatting!\n",
        "!head spam.csv"
      ],
      "execution_count": null,
      "outputs": [
        {
          "output_type": "stream",
          "text": [
            "v1,v2,,,\r\n",
            "ham,\"Go until jurong point, crazy.. Available only in bugis n great world la e buffet... Cine there got amore wat...\",,,\r\n",
            "ham,Ok lar... Joking wif u oni...,,,\r\n",
            "spam,Free entry in 2 a wkly comp to win FA Cup final tkts 21st May 2005. Text FA to 87121 to receive entry question(std txt rate)T&C's apply 08452810075over18's,,,\r\n",
            "ham,U dun say so early hor... U c already then say...,,,\r\n",
            "ham,\"Nah I don't think he goes to usf, he lives around here though\",,,\r\n",
            "spam,\"FreeMsg Hey there darling it's been 3 week's now and no word back! I'd like some fun you up for it still? Tb ok! XxX std chgs to send, �1.50 to rcv\",,,\r\n",
            "ham,Even my brother is not like to speak with me. They treat me like aids patent.,,,\r\n",
            "ham,As per your request 'Melle Melle (Oru Minnaminunginte Nurungu Vettam)' has been set as your callertune for all Callers. Press *9 to copy your friends Callertune,,,\r\n",
            "spam,WINNER!! As a valued network customer you have been selected to receivea �900 prize reward! To claim call 09061701461. Claim code KL341. Valid 12 hours only.,,,\r\n"
          ],
          "name": "stdout"
        }
      ]
    },
    {
      "cell_type": "code",
      "metadata": {
        "id": "nHiMfkAbRGVX"
      },
      "source": [
        "df = pd.read_csv('spam.csv', encoding='ISO-8859-1')"
      ],
      "execution_count": null,
      "outputs": []
    },
    {
      "cell_type": "code",
      "metadata": {
        "id": "8yoYsI-VRHCO",
        "colab": {
          "base_uri": "https://localhost:8080/",
          "height": 205
        },
        "outputId": "e800a891-4866-41c5-cb2e-472849afa200"
      },
      "source": [
        "df.head()"
      ],
      "execution_count": null,
      "outputs": [
        {
          "output_type": "execute_result",
          "data": {
            "text/html": [
              "<div>\n",
              "<style scoped>\n",
              "    .dataframe tbody tr th:only-of-type {\n",
              "        vertical-align: middle;\n",
              "    }\n",
              "\n",
              "    .dataframe tbody tr th {\n",
              "        vertical-align: top;\n",
              "    }\n",
              "\n",
              "    .dataframe thead th {\n",
              "        text-align: right;\n",
              "    }\n",
              "</style>\n",
              "<table border=\"1\" class=\"dataframe\">\n",
              "  <thead>\n",
              "    <tr style=\"text-align: right;\">\n",
              "      <th></th>\n",
              "      <th>v1</th>\n",
              "      <th>v2</th>\n",
              "      <th>Unnamed: 2</th>\n",
              "      <th>Unnamed: 3</th>\n",
              "      <th>Unnamed: 4</th>\n",
              "    </tr>\n",
              "  </thead>\n",
              "  <tbody>\n",
              "    <tr>\n",
              "      <th>0</th>\n",
              "      <td>ham</td>\n",
              "      <td>Go until jurong point, crazy.. Available only ...</td>\n",
              "      <td>NaN</td>\n",
              "      <td>NaN</td>\n",
              "      <td>NaN</td>\n",
              "    </tr>\n",
              "    <tr>\n",
              "      <th>1</th>\n",
              "      <td>ham</td>\n",
              "      <td>Ok lar... Joking wif u oni...</td>\n",
              "      <td>NaN</td>\n",
              "      <td>NaN</td>\n",
              "      <td>NaN</td>\n",
              "    </tr>\n",
              "    <tr>\n",
              "      <th>2</th>\n",
              "      <td>spam</td>\n",
              "      <td>Free entry in 2 a wkly comp to win FA Cup fina...</td>\n",
              "      <td>NaN</td>\n",
              "      <td>NaN</td>\n",
              "      <td>NaN</td>\n",
              "    </tr>\n",
              "    <tr>\n",
              "      <th>3</th>\n",
              "      <td>ham</td>\n",
              "      <td>U dun say so early hor... U c already then say...</td>\n",
              "      <td>NaN</td>\n",
              "      <td>NaN</td>\n",
              "      <td>NaN</td>\n",
              "    </tr>\n",
              "    <tr>\n",
              "      <th>4</th>\n",
              "      <td>ham</td>\n",
              "      <td>Nah I don't think he goes to usf, he lives aro...</td>\n",
              "      <td>NaN</td>\n",
              "      <td>NaN</td>\n",
              "      <td>NaN</td>\n",
              "    </tr>\n",
              "  </tbody>\n",
              "</table>\n",
              "</div>"
            ],
            "text/plain": [
              "     v1  ... Unnamed: 4\n",
              "0   ham  ...        NaN\n",
              "1   ham  ...        NaN\n",
              "2  spam  ...        NaN\n",
              "3   ham  ...        NaN\n",
              "4   ham  ...        NaN\n",
              "\n",
              "[5 rows x 5 columns]"
            ]
          },
          "metadata": {
            "tags": []
          },
          "execution_count": 5
        }
      ]
    },
    {
      "cell_type": "code",
      "metadata": {
        "id": "64SqvjY8RMUk"
      },
      "source": [
        "# drop unnecessary columns\n",
        "df = df.drop([\"Unnamed: 2\", \"Unnamed: 3\", \"Unnamed: 4\"], axis=1)"
      ],
      "execution_count": null,
      "outputs": []
    },
    {
      "cell_type": "code",
      "metadata": {
        "id": "2VWZD0KSRNFk",
        "colab": {
          "base_uri": "https://localhost:8080/",
          "height": 205
        },
        "outputId": "7d8eb425-4709-4254-bcc6-01a7e2826500"
      },
      "source": [
        "df.head()"
      ],
      "execution_count": null,
      "outputs": [
        {
          "output_type": "execute_result",
          "data": {
            "text/html": [
              "<div>\n",
              "<style scoped>\n",
              "    .dataframe tbody tr th:only-of-type {\n",
              "        vertical-align: middle;\n",
              "    }\n",
              "\n",
              "    .dataframe tbody tr th {\n",
              "        vertical-align: top;\n",
              "    }\n",
              "\n",
              "    .dataframe thead th {\n",
              "        text-align: right;\n",
              "    }\n",
              "</style>\n",
              "<table border=\"1\" class=\"dataframe\">\n",
              "  <thead>\n",
              "    <tr style=\"text-align: right;\">\n",
              "      <th></th>\n",
              "      <th>v1</th>\n",
              "      <th>v2</th>\n",
              "    </tr>\n",
              "  </thead>\n",
              "  <tbody>\n",
              "    <tr>\n",
              "      <th>0</th>\n",
              "      <td>ham</td>\n",
              "      <td>Go until jurong point, crazy.. Available only ...</td>\n",
              "    </tr>\n",
              "    <tr>\n",
              "      <th>1</th>\n",
              "      <td>ham</td>\n",
              "      <td>Ok lar... Joking wif u oni...</td>\n",
              "    </tr>\n",
              "    <tr>\n",
              "      <th>2</th>\n",
              "      <td>spam</td>\n",
              "      <td>Free entry in 2 a wkly comp to win FA Cup fina...</td>\n",
              "    </tr>\n",
              "    <tr>\n",
              "      <th>3</th>\n",
              "      <td>ham</td>\n",
              "      <td>U dun say so early hor... U c already then say...</td>\n",
              "    </tr>\n",
              "    <tr>\n",
              "      <th>4</th>\n",
              "      <td>ham</td>\n",
              "      <td>Nah I don't think he goes to usf, he lives aro...</td>\n",
              "    </tr>\n",
              "  </tbody>\n",
              "</table>\n",
              "</div>"
            ],
            "text/plain": [
              "     v1                                                 v2\n",
              "0   ham  Go until jurong point, crazy.. Available only ...\n",
              "1   ham                      Ok lar... Joking wif u oni...\n",
              "2  spam  Free entry in 2 a wkly comp to win FA Cup fina...\n",
              "3   ham  U dun say so early hor... U c already then say...\n",
              "4   ham  Nah I don't think he goes to usf, he lives aro..."
            ]
          },
          "metadata": {
            "tags": []
          },
          "execution_count": 7
        }
      ]
    },
    {
      "cell_type": "code",
      "metadata": {
        "id": "VE4XSMQJRQH1"
      },
      "source": [
        "# rename columns to something better\n",
        "df.columns = ['labels', 'data']"
      ],
      "execution_count": null,
      "outputs": []
    },
    {
      "cell_type": "code",
      "metadata": {
        "id": "piGZxXqzRSao",
        "colab": {
          "base_uri": "https://localhost:8080/",
          "height": 205
        },
        "outputId": "222c0b9f-b01f-4c0c-aecd-906bb4f68dc6"
      },
      "source": [
        "df.head()"
      ],
      "execution_count": null,
      "outputs": [
        {
          "output_type": "execute_result",
          "data": {
            "text/html": [
              "<div>\n",
              "<style scoped>\n",
              "    .dataframe tbody tr th:only-of-type {\n",
              "        vertical-align: middle;\n",
              "    }\n",
              "\n",
              "    .dataframe tbody tr th {\n",
              "        vertical-align: top;\n",
              "    }\n",
              "\n",
              "    .dataframe thead th {\n",
              "        text-align: right;\n",
              "    }\n",
              "</style>\n",
              "<table border=\"1\" class=\"dataframe\">\n",
              "  <thead>\n",
              "    <tr style=\"text-align: right;\">\n",
              "      <th></th>\n",
              "      <th>labels</th>\n",
              "      <th>data</th>\n",
              "    </tr>\n",
              "  </thead>\n",
              "  <tbody>\n",
              "    <tr>\n",
              "      <th>0</th>\n",
              "      <td>ham</td>\n",
              "      <td>Go until jurong point, crazy.. Available only ...</td>\n",
              "    </tr>\n",
              "    <tr>\n",
              "      <th>1</th>\n",
              "      <td>ham</td>\n",
              "      <td>Ok lar... Joking wif u oni...</td>\n",
              "    </tr>\n",
              "    <tr>\n",
              "      <th>2</th>\n",
              "      <td>spam</td>\n",
              "      <td>Free entry in 2 a wkly comp to win FA Cup fina...</td>\n",
              "    </tr>\n",
              "    <tr>\n",
              "      <th>3</th>\n",
              "      <td>ham</td>\n",
              "      <td>U dun say so early hor... U c already then say...</td>\n",
              "    </tr>\n",
              "    <tr>\n",
              "      <th>4</th>\n",
              "      <td>ham</td>\n",
              "      <td>Nah I don't think he goes to usf, he lives aro...</td>\n",
              "    </tr>\n",
              "  </tbody>\n",
              "</table>\n",
              "</div>"
            ],
            "text/plain": [
              "  labels                                               data\n",
              "0    ham  Go until jurong point, crazy.. Available only ...\n",
              "1    ham                      Ok lar... Joking wif u oni...\n",
              "2   spam  Free entry in 2 a wkly comp to win FA Cup fina...\n",
              "3    ham  U dun say so early hor... U c already then say...\n",
              "4    ham  Nah I don't think he goes to usf, he lives aro..."
            ]
          },
          "metadata": {
            "tags": []
          },
          "execution_count": 9
        }
      ]
    },
    {
      "cell_type": "code",
      "metadata": {
        "id": "xJY2m935RWcz"
      },
      "source": [
        "# create binary labels\n",
        "df['b_labels'] = df['labels'].map({'ham': 0, 'spam': 1})"
      ],
      "execution_count": null,
      "outputs": []
    },
    {
      "cell_type": "code",
      "metadata": {
        "id": "wlEjPuZzZdeJ"
      },
      "source": [
        "df_train, df_test = train_test_split(df, test_size=0.33)"
      ],
      "execution_count": null,
      "outputs": []
    },
    {
      "cell_type": "code",
      "metadata": {
        "colab": {
          "base_uri": "https://localhost:8080/"
        },
        "id": "MChuCcaCZgMr",
        "outputId": "0891331e-1462-441d-d6e4-5076a3de22d4"
      },
      "source": [
        "df_train.shape, df_test.shape"
      ],
      "execution_count": null,
      "outputs": [
        {
          "output_type": "execute_result",
          "data": {
            "text/plain": [
              "((3733, 3), (1839, 3))"
            ]
          },
          "metadata": {
            "tags": []
          },
          "execution_count": 116
        }
      ]
    },
    {
      "cell_type": "code",
      "metadata": {
        "id": "b9zPzjTkYdP-"
      },
      "source": [
        "# 0 = padding\n",
        "idx = 1\n",
        "word2idx = {'<PAD>': 0}"
      ],
      "execution_count": null,
      "outputs": []
    },
    {
      "cell_type": "code",
      "metadata": {
        "id": "iMTVxvHJXJ2F"
      },
      "source": [
        "# you could always use gensim or spacy for tokenization,\n",
        "# but let's keep it simple!\n",
        "for i, row in df_train.iterrows():\n",
        "  tokens = row['data'].lower().split() # simple tokenization\n",
        "  for token in tokens:\n",
        "    if token not in word2idx:\n",
        "      word2idx[token] = idx\n",
        "      idx += 1"
      ],
      "execution_count": null,
      "outputs": []
    },
    {
      "cell_type": "code",
      "metadata": {
        "colab": {
          "base_uri": "https://localhost:8080/"
        },
        "id": "OWh0MRrpYu8z",
        "outputId": "07c22ca1-d2c7-4640-9d18-875d5eb50970"
      },
      "source": [
        "word2idx"
      ],
      "execution_count": null,
      "outputs": [
        {
          "output_type": "execute_result",
          "data": {
            "text/plain": [
              "{'<PAD>': 0,\n",
              " \"i've\": 1,\n",
              " 'not': 2,\n",
              " 'sent': 3,\n",
              " 'it.': 4,\n",
              " 'he': 5,\n",
              " 'can': 6,\n",
              " 'send': 7,\n",
              " 'me.': 8,\n",
              " 'i': 9,\n",
              " \"don't\": 10,\n",
              " 'know': 11,\n",
              " 'but': 12,\n",
              " \"i'm\": 13,\n",
              " 'raping': 14,\n",
              " 'dudes': 15,\n",
              " 'at': 16,\n",
              " 'poker': 17,\n",
              " 'did': 18,\n",
              " 'you': 19,\n",
              " 'say': 20,\n",
              " 'bold,': 21,\n",
              " 'then': 22,\n",
              " 'torch': 23,\n",
              " 'later.': 24,\n",
              " 'or': 25,\n",
              " 'one': 26,\n",
              " 'and': 27,\n",
              " '2bold?': 28,\n",
              " 'no': 29,\n",
              " 'no.': 30,\n",
              " 'will': 31,\n",
              " 'check': 32,\n",
              " 'all': 33,\n",
              " 'rooms': 34,\n",
              " 'befor': 35,\n",
              " 'activities': 36,\n",
              " '3': 37,\n",
              " 'free': 38,\n",
              " 'tarot': 39,\n",
              " 'texts!': 40,\n",
              " 'find': 41,\n",
              " 'out': 42,\n",
              " 'about': 43,\n",
              " 'your': 44,\n",
              " 'love': 45,\n",
              " 'life': 46,\n",
              " 'now!': 47,\n",
              " 'try': 48,\n",
              " 'for': 49,\n",
              " 'free!': 50,\n",
              " 'text': 51,\n",
              " 'chance': 52,\n",
              " 'to': 53,\n",
              " '85555': 54,\n",
              " '16': 55,\n",
              " 'only!': 56,\n",
              " 'after': 57,\n",
              " 'free,': 58,\n",
              " 'msgs': 59,\n",
              " 'å£1.50': 60,\n",
              " 'each': 61,\n",
              " 'from': 62,\n",
              " 'tomorrow': 63,\n",
              " 'onwards': 64,\n",
              " 'eve': 65,\n",
              " '6': 66,\n",
              " 'work.': 67,\n",
              " 'sure,': 68,\n",
              " 'whenever': 69,\n",
              " 'show': 70,\n",
              " 'the': 71,\n",
              " 'fuck': 72,\n",
              " 'up': 73,\n",
              " '&gt;:(': 74,\n",
              " 'hey': 75,\n",
              " 'sexy': 76,\n",
              " 'buns': 77,\n",
              " '!': 78,\n",
              " 'have': 79,\n",
              " 'told': 80,\n",
              " '?': 81,\n",
              " 'adore': 82,\n",
              " 'you,': 83,\n",
              " 'loverboy.': 84,\n",
              " 'hope': 85,\n",
              " 'remember': 86,\n",
              " 'thank': 87,\n",
              " 'sister': 88,\n",
              " 'in': 89,\n",
              " 'law': 90,\n",
              " 'those': 91,\n",
              " 'meatballs': 92,\n",
              " '*grins*': 93,\n",
              " '...': 94,\n",
              " 'babe': 95,\n",
              " 'k': 96,\n",
              " ':-):-)': 97,\n",
              " 'watch': 98,\n",
              " 'some': 99,\n",
              " 'films.': 100,\n",
              " 'email': 101,\n",
              " 'alertfrom:': 102,\n",
              " 'jeri': 103,\n",
              " 'stewartsize:': 104,\n",
              " '2kbsubject:': 105,\n",
              " 'low-cost': 106,\n",
              " 'prescripiton': 107,\n",
              " 'drvgsto': 108,\n",
              " 'listen': 109,\n",
              " 'call': 110,\n",
              " '123': 111,\n",
              " 'do': 112,\n",
              " 'b': 113,\n",
              " 'late': 114,\n",
              " 'mum': 115,\n",
              " 'a': 116,\n",
              " 'boy': 117,\n",
              " 'loved': 118,\n",
              " 'gal.': 119,\n",
              " 'propsd': 120,\n",
              " 'bt': 121,\n",
              " 'she': 122,\n",
              " 'didnt': 123,\n",
              " 'mind.': 124,\n",
              " 'gv': 125,\n",
              " 'lv': 126,\n",
              " 'lttrs,': 127,\n",
              " 'her': 128,\n",
              " 'frnds': 129,\n",
              " 'threw': 130,\n",
              " 'thm.': 131,\n",
              " 'again': 132,\n",
              " 'd': 133,\n",
              " 'decided': 134,\n",
              " '2': 135,\n",
              " 'aproach': 136,\n",
              " 'gal': 137,\n",
              " ',': 138,\n",
              " 'dt': 139,\n",
              " 'time': 140,\n",
              " 'truck': 141,\n",
              " 'was': 142,\n",
              " 'speeding': 143,\n",
              " 'towards': 144,\n",
              " 'wn': 145,\n",
              " 'it': 146,\n",
              " 'hit': 147,\n",
              " 'girl,d': 148,\n",
              " 'ran': 149,\n",
              " 'like': 150,\n",
              " 'hell': 151,\n",
              " 'n': 152,\n",
              " 'saved': 153,\n",
              " 'her.': 154,\n",
              " 'asked': 155,\n",
              " \"'hw\": 156,\n",
              " 'cn': 157,\n",
              " 'u': 158,\n",
              " 'run': 159,\n",
              " 'so': 160,\n",
              " \"fast?'\": 161,\n",
              " 'replied': 162,\n",
              " '\\\\boost': 163,\n",
              " 'is': 164,\n",
              " 'secret': 165,\n",
              " 'of': 166,\n",
              " 'my': 167,\n",
              " 'energy\\\\\"': 168,\n",
              " 'instantly': 169,\n",
              " 'girl': 170,\n",
              " 'shouted': 171,\n",
              " '\\\\\"our': 172,\n",
              " 'thy': 173,\n",
              " 'lived': 174,\n",
              " 'happily': 175,\n",
              " '2gthr': 176,\n",
              " 'drinking': 177,\n",
              " 'boost': 178,\n",
              " 'evrydy': 179,\n",
              " 'moral': 180,\n",
              " 'story:-': 181,\n",
              " 'hv': 182,\n",
              " 'msgs:d;):': 183,\n",
              " 'gud': 184,\n",
              " 'ni8\"': 185,\n",
              " 'r': 186,\n",
              " 'here': 187,\n",
              " 'yet?': 188,\n",
              " 'wearing': 189,\n",
              " 'blue': 190,\n",
              " 'shirt': 191,\n",
              " 'black': 192,\n",
              " 'pants.': 193,\n",
              " 'today': 194,\n",
              " 'system': 195,\n",
              " 'sh': 196,\n",
              " 'get': 197,\n",
              " 'ready.all': 198,\n",
              " 'well': 199,\n",
              " 'am': 200,\n",
              " 'also': 201,\n",
              " 'deep': 202,\n",
              " 'how': 203,\n",
              " 'noe...': 204,\n",
              " 'ì_': 205,\n",
              " 'specify': 206,\n",
              " 'da': 207,\n",
              " 'domain': 208,\n",
              " 'as': 209,\n",
              " 'nusstu...': 210,\n",
              " 'ìï': 211,\n",
              " 'still': 212,\n",
              " 'sch...': 213,\n",
              " 'guess': 214,\n",
              " '&lt;#&gt;': 215,\n",
              " 'min': 216,\n",
              " 'there': 217,\n",
              " 'coming': 218,\n",
              " 'friday': 219,\n",
              " 'leave': 220,\n",
              " 'pongal?do': 221,\n",
              " 'any': 222,\n",
              " 'news': 223,\n",
              " 'work': 224,\n",
              " 'place.': 225,\n",
              " 'are': 226,\n",
              " 'doing.': 227,\n",
              " \"how's\": 228,\n",
              " 'queen.': 229,\n",
              " 'going': 230,\n",
              " 'royal': 231,\n",
              " 'wedding': 232,\n",
              " 'write': 233,\n",
              " 'ccna': 234,\n",
              " 'exam': 235,\n",
              " 'this': 236,\n",
              " 'week??': 237,\n",
              " 'lol': 238,\n",
              " 'made': 239,\n",
              " 'plans': 240,\n",
              " 'new': 241,\n",
              " 'years?': 242,\n",
              " 'please': 243,\n",
              " 'sen': 244,\n",
              " ':)my': 245,\n",
              " 'kind': 246,\n",
              " 'advice': 247,\n",
              " ':-)please': 248,\n",
              " 'come': 249,\n",
              " 'try:-)': 250,\n",
              " 'wud': 251,\n",
              " 'never': 252,\n",
              " 'mind': 253,\n",
              " 'if': 254,\n",
              " 'dont': 255,\n",
              " 'miss': 256,\n",
              " 'me': 257,\n",
              " 'need': 258,\n",
              " 'me..': 259,\n",
              " 'wil': 260,\n",
              " 'really': 261,\n",
              " 'hurt': 262,\n",
              " 'wen': 263,\n",
              " '&amp;': 264,\n",
              " 'tell': 265,\n",
              " 'me.........': 266,\n",
              " 'take': 267,\n",
              " 'care:-)': 268,\n",
              " 'bluray': 269,\n",
              " 'player': 270,\n",
              " 'yes:)from': 271,\n",
              " 'last': 272,\n",
              " 'week': 273,\n",
              " 'itself': 274,\n",
              " 'taking': 275,\n",
              " 'live': 276,\n",
              " 'call.': 277,\n",
              " 'just': 278,\n",
              " 'what': 279,\n",
              " 'type': 280,\n",
              " 'food': 281,\n",
              " 'like?': 282,\n",
              " \"what's\": 283,\n",
              " 'significance?': 284,\n",
              " 'phone': 285,\n",
              " 'we': 286,\n",
              " 'stopped': 287,\n",
              " 'ice': 288,\n",
              " 'cream': 289,\n",
              " 'go': 290,\n",
              " 'back': 291,\n",
              " 'law,': 292,\n",
              " 'having': 293,\n",
              " 'great': 294,\n",
              " 'month.': 295,\n",
              " 'saying': 296,\n",
              " 'hey.': 297,\n",
              " 'abiola': 298,\n",
              " 'him': 299,\n",
              " 'ok': 300,\n",
              " 'them': 301,\n",
              " 'fool': 302,\n",
              " 'either': 303,\n",
              " 'way': 304,\n",
              " 'works': 305,\n",
              " 'years': 306,\n",
              " 'old.': 307,\n",
              " 'that': 308,\n",
              " 'doesnt': 309,\n",
              " 'bother': 310,\n",
              " 'you.': 311,\n",
              " 'pass.they': 312,\n",
              " 'silently': 313,\n",
              " 'thinking': 314,\n",
              " 'right': 315,\n",
              " 'now': 316,\n",
              " 'making': 317,\n",
              " 'think': 318,\n",
              " 'least': 319,\n",
              " '4': 320,\n",
              " 'moment.': 321,\n",
              " 'gd': 322,\n",
              " 'nt.swt': 323,\n",
              " 'drms': 324,\n",
              " '@shesil': 325,\n",
              " 'mail.i': 326,\n",
              " 'mailed': 327,\n",
              " 'varma': 328,\n",
              " 'kept': 329,\n",
              " 'copy': 330,\n",
              " 'regarding': 331,\n",
              " 'membership.take': 332,\n",
              " 'care.insha': 333,\n",
              " 'allah.': 334,\n",
              " 'jazz': 335,\n",
              " 'power': 336,\n",
              " 'yoga': 337,\n",
              " 'hip': 338,\n",
              " 'hop': 339,\n",
              " 'kb': 340,\n",
              " 'yogasana': 341,\n",
              " 'official': 342,\n",
              " 'england': 343,\n",
              " 'poly': 344,\n",
              " 'ringtone': 345,\n",
              " 'colour': 346,\n",
              " 'flag': 347,\n",
              " 'on': 348,\n",
              " 'yer': 349,\n",
              " 'mobile': 350,\n",
              " 'tonights': 351,\n",
              " 'game!': 352,\n",
              " 'tone': 353,\n",
              " '84199.': 354,\n",
              " 'optout': 355,\n",
              " 'txt': 356,\n",
              " 'eng': 357,\n",
              " 'stop': 358,\n",
              " 'box39822': 359,\n",
              " 'w111wx': 360,\n",
              " 'off,': 361,\n",
              " 'move': 362,\n",
              " 'with': 363,\n",
              " ':)': 364,\n",
              " 'fetch': 365,\n",
              " 'yun': 366,\n",
              " 'fetch?': 367,\n",
              " 'meant': 368,\n",
              " 'middle': 369,\n",
              " 'left': 370,\n",
              " 'right?': 371,\n",
              " 'wamma': 372,\n",
              " 'laid?want': 373,\n",
              " 'real': 374,\n",
              " 'doggin': 375,\n",
              " 'locations': 376,\n",
              " 'direct': 377,\n",
              " 'mobile?': 378,\n",
              " 'join': 379,\n",
              " 'uks': 380,\n",
              " 'largest': 381,\n",
              " 'dogging': 382,\n",
              " 'network.': 383,\n",
              " 'dogs': 384,\n",
              " '69696': 385,\n",
              " 'now!nyt.': 386,\n",
              " 'ec2a.': 387,\n",
              " '3lp': 388,\n",
              " 'å£1.50/msg.': 389,\n",
              " 'sorry,': 390,\n",
              " \"i'll\": 391,\n",
              " 'later': 392,\n",
              " 'tones': 393,\n",
              " 'enjoyed': 394,\n",
              " 'content.': 395,\n",
              " '61610': 396,\n",
              " 'unsubscribe.': 397,\n",
              " 'help:08712400602450p': 398,\n",
              " 'provided': 399,\n",
              " 'by': 400,\n",
              " 'tones2you.co.uk': 401,\n",
              " 'thnk': 402,\n",
              " 'its': 403,\n",
              " 'wrong': 404,\n",
              " 'calling': 405,\n",
              " 'between': 406,\n",
              " 'us': 407,\n",
              " 'mu?': 408,\n",
              " 'should': 409,\n",
              " 'figure': 410,\n",
              " 'much': 411,\n",
              " 'money': 412,\n",
              " 'everyone': 413,\n",
              " 'has': 414,\n",
              " 'gas': 415,\n",
              " 'alcohol,': 416,\n",
              " 'jay': 417,\n",
              " 'trying': 418,\n",
              " 'our': 419,\n",
              " 'weed': 420,\n",
              " 'budget': 421,\n",
              " 'calls': 422,\n",
              " 'afternoon': 423,\n",
              " 'onwords': 424,\n",
              " 'mtnl': 425,\n",
              " 'service': 426,\n",
              " 'problem': 427,\n",
              " 'south': 428,\n",
              " 'mumbai.': 429,\n",
              " 'hear': 430,\n",
              " \"cann't\": 431,\n",
              " 'boys.': 432,\n",
              " 'want': 433,\n",
              " 'hot': 434,\n",
              " 'xxx': 435,\n",
              " 'pics': 436,\n",
              " 'ur': 437,\n",
              " 'phone?': 438,\n",
              " 'porn': 439,\n",
              " '69855,': 440,\n",
              " '24hrs': 441,\n",
              " '50p': 442,\n",
              " 'per': 443,\n",
              " 'day.': 444,\n",
              " 'stopbcm': 445,\n",
              " 'sf': 446,\n",
              " 'wc1n3xx': 447,\n",
              " \"hi'\": 448,\n",
              " 'test': 449,\n",
              " 'rd': 450,\n",
              " '....': 451,\n",
              " 'thanx': 452,\n",
              " 'lot': 453,\n",
              " 'help!': 454,\n",
              " 'pick': 455,\n",
              " 'when': 456,\n",
              " 'something': 457,\n",
              " 'important': 458,\n",
              " 'tell.': 459,\n",
              " 'hrishi': 460,\n",
              " 'dear': 461,\n",
              " 'got': 462,\n",
              " 'bus': 463,\n",
              " 'directly': 464,\n",
              " 'calicut': 465,\n",
              " '1': 466,\n",
              " 'polyphonic': 467,\n",
              " 'mob': 468,\n",
              " 'every': 469,\n",
              " 'week!': 470,\n",
              " 'pt2': 471,\n",
              " '87575.': 472,\n",
              " '1st': 473,\n",
              " 'txtin': 474,\n",
              " 'friends.': 475,\n",
              " '150p/tone.': 476,\n",
              " 'reply': 477,\n",
              " 'hl': 478,\n",
              " '4info': 479,\n",
              " 'oops': 480,\n",
              " 'it,': 481,\n",
              " 'see': 482,\n",
              " 'then,': 483,\n",
              " \"we're\": 484,\n",
              " 'christmassy': 485,\n",
              " 'here!': 486,\n",
              " 's': 487,\n",
              " 'da..al': 488,\n",
              " 'above': 489,\n",
              " 'don': 490,\n",
              " 'times': 491,\n",
              " 'oh.': 492,\n",
              " 'give': 493,\n",
              " 'hypertension': 494,\n",
              " 'hi': 495,\n",
              " 'good': 496,\n",
              " 'mornin..': 497,\n",
              " 'thanku': 498,\n",
              " 'wish': 499,\n",
              " 'same..': 500,\n",
              " 'ya': 501,\n",
              " 'srsly': 502,\n",
              " 'better': 503,\n",
              " 'than': 504,\n",
              " 'yi': 505,\n",
              " 'tho': 506,\n",
              " 'forced': 507,\n",
              " 'myself': 508,\n",
              " 'eat': 509,\n",
              " 'slice.': 510,\n",
              " 'hungry': 511,\n",
              " 'tho.': 512,\n",
              " 'sucks.': 513,\n",
              " 'mark': 514,\n",
              " 'getting': 515,\n",
              " 'worried.': 516,\n",
              " 'knows': 517,\n",
              " 'sick': 518,\n",
              " 'turn': 519,\n",
              " 'down': 520,\n",
              " 'pizza.': 521,\n",
              " 'yeah': 522,\n",
              " 'fine,': 523,\n",
              " 'started': 524,\n",
              " 'week,': 525,\n",
              " 'same': 526,\n",
              " 'stuff': 527,\n",
              " 'before,': 528,\n",
              " 'dull': 529,\n",
              " 'easy': 530,\n",
              " 'guys': 531,\n",
              " 'fun!': 532,\n",
              " 'attending': 533,\n",
              " 'talks?': 534,\n",
              " 'anything': 535,\n",
              " 'lor.': 536,\n",
              " 'juz': 537,\n",
              " 'both': 538,\n",
              " 'gonna': 539,\n",
              " \"today's\": 540,\n",
              " 'steam': 541,\n",
              " 'sales/pee': 542,\n",
              " '2day!': 543,\n",
              " 'goodmate': 544,\n",
              " 'rite': 545,\n",
              " 'sary!': 546,\n",
              " 'asusual!1': 547,\n",
              " 'cheered': 548,\n",
              " 'up!': 549,\n",
              " 'franyxxxxx': 550,\n",
              " 'woke': 551,\n",
              " 'up.': 552,\n",
              " 'yeesh': 553,\n",
              " 'late.': 554,\n",
              " \"didn't\": 555,\n",
              " 'fall': 556,\n",
              " 'asleep': 557,\n",
              " 'til': 558,\n",
              " ':/': 559,\n",
              " 'k,': 560,\n",
              " 'another': 561,\n",
              " '8th': 562,\n",
              " \"you're\": 563,\n",
              " 'done?': 564,\n",
              " 'alex': 565,\n",
              " 'says': 566,\n",
              " \"he's\": 567,\n",
              " 'being': 568,\n",
              " 'all,': 569,\n",
              " 'th': 570,\n",
              " 'birthday': 571,\n",
              " 'loving': 572,\n",
              " 'gopalettan.': 573,\n",
              " 'planning': 574,\n",
              " 'small': 575,\n",
              " 'gift': 576,\n",
              " 'who': 577,\n",
              " 'participate': 578,\n",
              " 'welcome.': 579,\n",
              " 'contact': 580,\n",
              " 'admin': 581,\n",
              " 'team': 582,\n",
              " 'more': 583,\n",
              " 'details': 584,\n",
              " 'weirdest': 585,\n",
              " 'auto': 586,\n",
              " 'correct.': 587,\n",
              " 'id': 588,\n",
              " 'soon': 589,\n",
              " 'day': 590,\n",
              " 'finish': 591,\n",
              " 'mon': 592,\n",
              " 'thurs...': 593,\n",
              " 'off': 594,\n",
              " 'younger': 595,\n",
              " 'man.': 596,\n",
              " 'make': 597,\n",
              " 'pretty': 598,\n",
              " 'babies': 599,\n",
              " 'together': 600,\n",
              " 'yup': 601,\n",
              " 'finished': 602,\n",
              " 'c': 603,\n",
              " 'there...': 604,\n",
              " 'ha': 605,\n",
              " 'nan': 606,\n",
              " 'yalrigu': 607,\n",
              " 'heltini..iyo': 608,\n",
              " 'kothi': 609,\n",
              " 'chikku,': 610,\n",
              " 'shared': 611,\n",
              " 'many': 612,\n",
              " 'things': 613,\n",
              " 'wit': 614,\n",
              " 'me..so': 615,\n",
              " 'far': 616,\n",
              " 'body': 617,\n",
              " 'even': 618,\n",
              " 'uttered': 619,\n",
              " 'word': 620,\n",
              " 'abt': 621,\n",
              " 'u..': 622,\n",
              " 'trusting': 623,\n",
              " 'these': 624,\n",
              " 'others..': 625,\n",
              " 'plz': 626,\n",
              " 'nxt': 627,\n",
              " 'use': 628,\n",
              " 'words': 629,\n",
              " 'me..ok,': 630,\n",
              " 'chikku:-);-)b-)': 631,\n",
              " 'great.': 632,\n",
              " 'using': 633,\n",
              " 'connections': 634,\n",
              " 'mode': 635,\n",
              " 'men': 636,\n",
              " 'cos': 637,\n",
              " 'why': 638,\n",
              " 'old': 639,\n",
              " 'friends': 640,\n",
              " 'lead': 641,\n",
              " 'boo': 642,\n",
              " 'out?': 643,\n",
              " 'were': 644,\n",
              " 'supposed': 645,\n",
              " 'shopping': 646,\n",
              " 'today.': 647,\n",
              " ':(': 648,\n",
              " 'sec': 649,\n",
              " 'knew': 650,\n",
              " 'it...': 651,\n",
              " 'slept': 652,\n",
              " 'v': 653,\n",
              " 'yest?': 654,\n",
              " 'wake': 655,\n",
              " 'late...': 656,\n",
              " 'happen': 657,\n",
              " 'dear.': 658,\n",
              " 'silent.': 659,\n",
              " 'tensed': 660,\n",
              " 'morning': 661,\n",
              " 'only': 662,\n",
              " 'ok.': 663,\n",
              " 'dude,': 664,\n",
              " 'afraid': 665,\n",
              " 'came': 666,\n",
              " 'look': 667,\n",
              " 'flat,': 668,\n",
              " 'seems': 669,\n",
              " 'ok,': 670,\n",
              " 'his': 671,\n",
              " '50s?': 672,\n",
              " '*': 673,\n",
              " 'away': 674,\n",
              " 'alot': 675,\n",
              " 'wiv': 676,\n",
              " 'woman': 677,\n",
              " '6.30': 678,\n",
              " 'too.': 679,\n",
              " 'gud..k,': 680,\n",
              " 'chikku': 681,\n",
              " 'tke': 682,\n",
              " 'care..': 683,\n",
              " 'sleep': 684,\n",
              " 'nyt': 685,\n",
              " 'bears': 686,\n",
              " 'pic': 687,\n",
              " 'nick,': 688,\n",
              " 'tom,': 689,\n",
              " 'pete': 690,\n",
              " 'dick.': 691,\n",
              " 'fact,': 692,\n",
              " 'types': 693,\n",
              " 'gay': 694,\n",
              " 'chat': 695,\n",
              " 'photo': 696,\n",
              " 'upload': 697,\n",
              " '08718730666': 698,\n",
              " '(10p/min).': 699,\n",
              " 'texts': 700,\n",
              " '08712460324': 701,\n",
              " '@': 702,\n",
              " 'home': 703,\n",
              " 'within': 704,\n",
              " '5': 705,\n",
              " 'baaaaabe!': 706,\n",
              " 'misss': 707,\n",
              " 'youuuuu': 708,\n",
              " 'where': 709,\n",
              " 'teach': 710,\n",
              " 'class': 711,\n",
              " 'funeral': 712,\n",
              " 'pain': 713,\n",
              " \"couldn't\": 714,\n",
              " 'worse': 715,\n",
              " 'time.': 716,\n",
              " 'alright': 717,\n",
              " 'hooked': 718,\n",
              " 'up,': 719,\n",
              " 'tampa': 720,\n",
              " 'ffffuuuuuuu': 721,\n",
              " 'knw': 722,\n",
              " 'dis': 723,\n",
              " 'yup.': 724,\n",
              " 'wun': 725,\n",
              " 'believe': 726,\n",
              " 'wat?': 727,\n",
              " 'neva': 728,\n",
              " 'e': 729,\n",
              " 'msg': 730,\n",
              " 'shuhui?': 731,\n",
              " 'them.': 732,\n",
              " 'sure': 733,\n",
              " 'mean': 734,\n",
              " '\\\\get': 735,\n",
              " 'ambrith..madurai..met': 736,\n",
              " 'arun': 737,\n",
              " 'dha': 738,\n",
              " 'marrge..remembr?': 739,\n",
              " 'hai': 740,\n",
              " 'friends...': 741,\n",
              " 'present': 742,\n",
              " 'number..:)': 743,\n",
              " 'rajitha': 744,\n",
              " 'raj': 745,\n",
              " '(ranju)': 746,\n",
              " '2nd': 747,\n",
              " 'tried': 748,\n",
              " 'u.': 749,\n",
              " 'won': 750,\n",
              " 'å£1450': 751,\n",
              " 'prize': 752,\n",
              " 'claim': 753,\n",
              " '09053750005': 754,\n",
              " 'b4': 755,\n",
              " '310303.': 756,\n",
              " 't&cs/stop': 757,\n",
              " 'sms': 758,\n",
              " '08718725756.': 759,\n",
              " '140ppm': 760,\n",
              " 'brother': 761,\n",
              " 'transfered': 762,\n",
              " '+': 763,\n",
              " '.': 764,\n",
              " 'pa.': 765,\n",
              " 'enjoy': 766,\n",
              " 'showers': 767,\n",
              " 'possessiveness': 768,\n",
              " 'poured': 769,\n",
              " 'ones,': 770,\n",
              " 'bcoz': 771,\n",
              " 'world': 772,\n",
              " 'lies,': 773,\n",
              " 'golden': 774,\n",
              " 'be': 775,\n",
              " 'truly..': 776,\n",
              " 'yo': 777,\n",
              " 'dude': 778,\n",
              " 'arrested': 779,\n",
              " 'other': 780,\n",
              " 'repeat': 781,\n",
              " 'instructions': 782,\n",
              " 'again.': 783,\n",
              " \"wat's\": 784,\n",
              " 'road': 785,\n",
              " 'name': 786,\n",
              " 'house?': 787,\n",
              " 'yes': 788,\n",
              " 'dot': 789,\n",
              " 'hi,': 790,\n",
              " 'added': 791,\n",
              " 'their': 792,\n",
              " 'list': 793,\n",
              " 'www.fullonsms.com': 794,\n",
              " 'place': 795,\n",
              " 'people': 796,\n",
              " 'visit': 797,\n",
              " 'fullonsms.com': 798,\n",
              " 'sindu': 799,\n",
              " 'job': 800,\n",
              " 'birla': 801,\n",
              " 'soft': 802,\n",
              " '..': 803,\n",
              " 'wants': 804,\n",
              " 'talk': 805,\n",
              " 'hows': 806,\n",
              " 'champ': 807,\n",
              " 'leaving': 808,\n",
              " 'glasgow!': 809,\n",
              " 'mrng': 810,\n",
              " 'hav': 811,\n",
              " 'nice': 812,\n",
              " 'watching': 813,\n",
              " 'cartoon,': 814,\n",
              " 'listening': 815,\n",
              " 'music': 816,\n",
              " 'had': 817,\n",
              " 'temple': 818,\n",
              " 'church..': 819,\n",
              " 'u?': 820,\n",
              " 'lmao': 821,\n",
              " 'wont': 822,\n",
              " 'needing': 823,\n",
              " 'hair': 824,\n",
              " 'anymore.': 825,\n",
              " 'prob...': 826,\n",
              " 'networking': 827,\n",
              " 'there.': 828,\n",
              " 'theory:': 829,\n",
              " 'argument': 830,\n",
              " 'wins': 831,\n",
              " 'situation,': 832,\n",
              " 'loses': 833,\n",
              " 'person.': 834,\n",
              " 'argue': 835,\n",
              " 'just..': 836,\n",
              " 'kick': 837,\n",
              " 'say,': 838,\n",
              " 'always': 839,\n",
              " 'correct.!': 840,\n",
              " 'whatsup': 841,\n",
              " 'talking': 842,\n",
              " 'bout': 843,\n",
              " 'early': 844,\n",
              " 'morning?': 845,\n",
              " \"it's\": 846,\n",
              " 'almost': 847,\n",
              " 'noon': 848,\n",
              " 'at!': 849,\n",
              " 'ugh': 850,\n",
              " 'y': 851,\n",
              " \"can't\": 852,\n",
              " 'apologize,': 853,\n",
              " 'admit': 854,\n",
              " 'ask': 855,\n",
              " 'back?': 856,\n",
              " 'purity': 857,\n",
              " 'friendship': 858,\n",
              " 'two': 859,\n",
              " 'smiling': 860,\n",
              " 'reading': 861,\n",
              " 'forwarded': 862,\n",
              " 'message..its': 863,\n",
              " 'seeing': 864,\n",
              " 'name.': 865,\n",
              " 'evng': 866,\n",
              " 'musthu': 867,\n",
              " 'doubt': 868,\n",
              " 'could': 869,\n",
              " 'handle': 870,\n",
              " 'night': 871,\n",
              " 'case...': 872,\n",
              " '\\\\can': 873,\n",
              " 'imin': 874,\n",
              " 'town.dontmatter': 875,\n",
              " 'urgoin': 876,\n",
              " 'outl8r': 877,\n",
              " 'it\\x89û÷s': 878,\n",
              " 'reassuring,': 879,\n",
              " 'crazy': 880,\n",
              " 'world.': 881,\n",
              " 'too': 882,\n",
              " 'surya': 883,\n",
              " 'movie': 884,\n",
              " 'only.': 885,\n",
              " '.after': 886,\n",
              " 'pm': 887,\n",
              " 'vijay': 888,\n",
              " 'pokkiri': 889,\n",
              " 'workin': 890,\n",
              " 'overtime': 891,\n",
              " 'nigpun?': 892,\n",
              " 'major': 893,\n",
              " 'roles': 894,\n",
              " 'community': 895,\n",
              " 'outreach.': 896,\n",
              " 'rock': 897,\n",
              " 'mel': 898,\n",
              " 'erutupalam': 899,\n",
              " 'thandiyachu': 900,\n",
              " 'voucher': 901,\n",
              " 'holder': 902,\n",
              " 'airport': 903,\n",
              " 'lounge': 904,\n",
              " 'passes': 905,\n",
              " 'holiday': 906,\n",
              " '08704439680.': 907,\n",
              " 'booking': 908,\n",
              " 'quote': 909,\n",
              " 'x': 910,\n",
              " 'madam,regret': 911,\n",
              " 'disturbance.might': 912,\n",
              " 'receive': 913,\n",
              " 'reference': 914,\n",
              " 'dlf': 915,\n",
              " 'premarica.kindly': 916,\n",
              " 'informed.rgds,rakhesh,kerala.': 917,\n",
              " '4goten': 918,\n",
              " \"me?'\": 919,\n",
              " 'scammers': 920,\n",
              " 'smart..though': 921,\n",
              " 'regular': 922,\n",
              " 'vodafone': 923,\n",
              " 'no,': 924,\n",
              " 'respond': 925,\n",
              " 'further': 926,\n",
              " 'prem': 927,\n",
              " 'rate': 928,\n",
              " 'msg/subscription.': 929,\n",
              " 'nos': 930,\n",
              " 'used': 931,\n",
              " 'also.': 932,\n",
              " 'beware!': 933,\n",
              " \"didn't.\": 934,\n",
              " 'spring': 935,\n",
              " 'yay!': 936,\n",
              " 'movie.': 937,\n",
              " 'wan': 938,\n",
              " 'ktv': 939,\n",
              " 'oso?': 940,\n",
              " 'lo': 941,\n",
              " 'lesson': 942,\n",
              " 'gym?': 943,\n",
              " \"1000's\": 944,\n",
              " 'flirting': 945,\n",
              " 'bloke': 946,\n",
              " '&': 947,\n",
              " 'age,': 948,\n",
              " 'eg': 949,\n",
              " 'zoe': 950,\n",
              " '18': 951,\n",
              " '8007': 952,\n",
              " 'chatting!': 953,\n",
              " 'alrite': 954,\n",
              " 'jod': 955,\n",
              " 'revision': 956,\n",
              " 'goin?': 957,\n",
              " 'keris': 958,\n",
              " 'bin': 959,\n",
              " 'doin': 960,\n",
              " 'smidgin.': 961,\n",
              " 'wanna': 962,\n",
              " 'cum': 963,\n",
              " 'over': 964,\n",
              " 'college?xx': 965,\n",
              " 'wonder': 966,\n",
              " 'battery': 967,\n",
              " 'went': 968,\n",
              " 'dead': 969,\n",
              " 'darling': 970,\n",
              " 'sister.': 971,\n",
              " \"when's\": 972,\n",
              " 'school': 973,\n",
              " 'resuming.': 974,\n",
              " 'minimum': 975,\n",
              " 'wait': 976,\n",
              " 'period': 977,\n",
              " 'before': 978,\n",
              " 'reapply?': 979,\n",
              " 'care': 980,\n",
              " 'dad': 981,\n",
              " 'lar...': 982,\n",
              " 'stay': 983,\n",
              " 'until': 984,\n",
              " 'meh...': 985,\n",
              " 'm': 986,\n",
              " 'unable': 987,\n",
              " 'cal.': 988,\n",
              " 'lets': 989,\n",
              " 'meet': 990,\n",
              " 'bhaskar,': 991,\n",
              " 'princess!': 992,\n",
              " 'you?': 993,\n",
              " 'holding': 994,\n",
              " 'tightly.': 995,\n",
              " 'are.': 996,\n",
              " 'yes..gauti': 997,\n",
              " 'sehwag': 998,\n",
              " 'odi': 999,\n",
              " ...}"
            ]
          },
          "metadata": {
            "tags": []
          },
          "execution_count": 119
        }
      ]
    },
    {
      "cell_type": "code",
      "metadata": {
        "colab": {
          "base_uri": "https://localhost:8080/"
        },
        "id": "UqAiUTeaYxx0",
        "outputId": "6a769b44-0906-4241-b245-aa9524ea174f"
      },
      "source": [
        "len(word2idx)"
      ],
      "execution_count": null,
      "outputs": [
        {
          "output_type": "execute_result",
          "data": {
            "text/plain": [
              "10555"
            ]
          },
          "metadata": {
            "tags": []
          },
          "execution_count": 120
        }
      ]
    },
    {
      "cell_type": "code",
      "metadata": {
        "id": "tROicIFHYze4"
      },
      "source": [
        "# convert data into word indices\n",
        "# note: could have done this on the fly earlier\n",
        "train_sentences_as_int = []\n",
        "for i, row in df_train.iterrows():\n",
        "  tokens = row['data'].lower().split()\n",
        "  sentence_as_int = [word2idx[token] for token in tokens]\n",
        "  train_sentences_as_int.append(sentence_as_int)"
      ],
      "execution_count": null,
      "outputs": []
    },
    {
      "cell_type": "code",
      "metadata": {
        "id": "fRB7bHr4aS5Y"
      },
      "source": [
        "test_sentences_as_int = []\n",
        "for i, row in df_test.iterrows():\n",
        "  tokens = row['data'].lower().split()\n",
        "  sentence_as_int = [word2idx[token] for token in tokens if token in word2idx]\n",
        "  test_sentences_as_int.append(sentence_as_int)"
      ],
      "execution_count": null,
      "outputs": []
    },
    {
      "cell_type": "code",
      "metadata": {
        "colab": {
          "base_uri": "https://localhost:8080/"
        },
        "id": "92i9fDZCaeFT",
        "outputId": "164f0578-b9ef-4b9e-d02f-9beedfccdd0d"
      },
      "source": [
        "len(train_sentences_as_int), len(test_sentences_as_int)"
      ],
      "execution_count": null,
      "outputs": [
        {
          "output_type": "execute_result",
          "data": {
            "text/plain": [
              "(3733, 1839)"
            ]
          },
          "metadata": {
            "tags": []
          },
          "execution_count": 123
        }
      ]
    },
    {
      "cell_type": "code",
      "metadata": {
        "id": "JawoNCOYag6f"
      },
      "source": [
        "def data_generator(X, y, batch_size=32):\n",
        "  X, y = shuffle(X, y)\n",
        "  n_batches = int(np.ceil(len(y) / batch_size))\n",
        "  for i in range(n_batches):\n",
        "    end = min((i + 1) * batch_size, len(y))\n",
        "\n",
        "    X_batch = X[i * batch_size:end]\n",
        "    y_batch = y[i * batch_size:end]\n",
        "\n",
        "    # pad X_batch to be N x T\n",
        "    max_len = np.max([len(x) for x in X_batch])\n",
        "    for j in range(len(X_batch)):\n",
        "      x = X_batch[j]\n",
        "      pad = [0] * (max_len - len(x))\n",
        "      X_batch[j] = pad + x\n",
        "    \n",
        "    # convert to tensor\n",
        "    X_batch = torch.from_numpy(np.array(X_batch)).long()\n",
        "    y_batch = torch.from_numpy(np.array(y_batch)).long()\n",
        "    \n",
        "    yield X_batch, y_batch"
      ],
      "execution_count": null,
      "outputs": []
    },
    {
      "cell_type": "code",
      "metadata": {
        "id": "_R_0W0SBycyG",
        "colab": {
          "base_uri": "https://localhost:8080/"
        },
        "outputId": "dff4c2e6-601d-40aa-f5a8-e8b25c7d5fa8"
      },
      "source": [
        "for inputs, targets in data_generator(train_sentences_as_int, df_train.b_labels):\n",
        "  print(\"inputs\", inputs, \"shape:\", inputs.shape)\n",
        "  print(\"targets\", targets, \"shape:\", targets.shape)\n",
        "  break"
      ],
      "execution_count": null,
      "outputs": [
        {
          "output_type": "stream",
          "text": [
            "inputs tensor([[   0,    0,    0,  ...,  662, 3280,  298],\n",
            "        [   0,    0,    0,  ...,   44,  212, 6684],\n",
            "        [   0,    0,    0,  ...,  976,  558,   63],\n",
            "        ...,\n",
            "        [   0,    0,    0,  ...,  662, 8066, 8067],\n",
            "        [   0,    0,    0,  ...,    6,    7,    8],\n",
            "        [   0,    0,    0,  ..., 3846, 4688, 6195]]) shape: torch.Size([32, 37])\n",
            "targets tensor([0, 0, 0, 0, 0, 0, 0, 0, 0, 0, 0, 0, 0, 0, 0, 0, 1, 0, 0, 1, 0, 0, 0, 0,\n",
            "        0, 0, 0, 0, 0, 1, 0, 0]) shape: torch.Size([32])\n"
          ],
          "name": "stdout"
        }
      ]
    },
    {
      "cell_type": "code",
      "metadata": {
        "id": "GpBE8b_qydOz",
        "colab": {
          "base_uri": "https://localhost:8080/"
        },
        "outputId": "fddfe742-170d-40d7-bcf3-dd7048f55d53"
      },
      "source": [
        "for inputs, targets in data_generator(test_sentences_as_int, df_test.b_labels):\n",
        "  print(\"inputs\", inputs, \"shape:\", inputs.shape)\n",
        "  print(\"targets\", targets, \"shape:\", targets.shape)\n",
        "  break"
      ],
      "execution_count": null,
      "outputs": [
        {
          "output_type": "stream",
          "text": [
            "inputs tensor([[   0,    0,    0,  ..., 1459,   79,  116],\n",
            "        [7917,  133, 5671,  ...,  158,  186, 7939],\n",
            "        [   0,    0,    0,  ...,  358, 2616,  435],\n",
            "        ...,\n",
            "        [   0,    0,    0,  ...,  228,  167,  970],\n",
            "        [   0,    0,    0,  ...,  236,   26, 3823],\n",
            "        [   0,    0,    0,  ..., 1996,   25, 6976]]) shape: torch.Size([32, 71])\n",
            "targets tensor([0, 0, 1, 0, 0, 0, 1, 1, 0, 0, 0, 0, 0, 0, 1, 0, 1, 0, 0, 0, 0, 0, 0, 0,\n",
            "        0, 0, 0, 0, 0, 0, 0, 1]) shape: torch.Size([32])\n"
          ],
          "name": "stdout"
        }
      ]
    },
    {
      "cell_type": "code",
      "metadata": {
        "id": "AEtkVKc3YnDx",
        "colab": {
          "base_uri": "https://localhost:8080/"
        },
        "outputId": "b2e592b2-b799-4436-9e06-332dca21254d"
      },
      "source": [
        "device = torch.device(\"cuda:0\" if torch.cuda.is_available() else \"cpu\")\n",
        "print(device)"
      ],
      "execution_count": null,
      "outputs": [
        {
          "output_type": "stream",
          "text": [
            "cuda:0\n"
          ],
          "name": "stdout"
        }
      ]
    },
    {
      "cell_type": "code",
      "metadata": {
        "id": "oTdqSCmwfRNp"
      },
      "source": [
        "# Define the model\n",
        "class RNN(nn.Module):\n",
        "  def __init__(self, n_vocab, embed_dim, n_hidden, n_rnnlayers, n_outputs):\n",
        "    super(RNN, self).__init__()\n",
        "    self.V = n_vocab\n",
        "    self.D = embed_dim\n",
        "    self.M = n_hidden\n",
        "    self.K = n_outputs\n",
        "    self.L = n_rnnlayers\n",
        "\n",
        "    self.embed = nn.Embedding(self.V, self.D)\n",
        "    self.rnn = nn.LSTM(\n",
        "        input_size=self.D,\n",
        "        hidden_size=self.M,\n",
        "        num_layers=self.L,\n",
        "        batch_first=True)\n",
        "    self.fc = nn.Linear(self.M, self.K)\n",
        "  \n",
        "  def forward(self, X):\n",
        "    # initial hidden states\n",
        "    h0 = torch.zeros(self.L, X.size(0), self.M).to(device)\n",
        "    c0 = torch.zeros(self.L, X.size(0), self.M).to(device)\n",
        "\n",
        "    # embedding layer\n",
        "    # turns word indexes into word vectors\n",
        "    out = self.embed(X)\n",
        "\n",
        "    # get RNN unit output\n",
        "    out, _ = self.rnn(out, (h0, c0))\n",
        "\n",
        "    # max pool\n",
        "    out, _ = torch.max(out, 1)\n",
        "\n",
        "    # we only want h(T) at the final time step\n",
        "    out = self.fc(out)\n",
        "    return out"
      ],
      "execution_count": null,
      "outputs": []
    },
    {
      "cell_type": "code",
      "metadata": {
        "id": "c7IXFlkDf9Bl",
        "colab": {
          "base_uri": "https://localhost:8080/"
        },
        "outputId": "4201b153-d6bb-482d-ce83-58feee06c88c"
      },
      "source": [
        "model = RNN(len(word2idx), 20, 15, 1, 1)\n",
        "model.to(device)"
      ],
      "execution_count": null,
      "outputs": [
        {
          "output_type": "execute_result",
          "data": {
            "text/plain": [
              "RNN(\n",
              "  (embed): Embedding(10555, 20)\n",
              "  (rnn): LSTM(20, 15, batch_first=True)\n",
              "  (fc): Linear(in_features=15, out_features=1, bias=True)\n",
              ")"
            ]
          },
          "metadata": {
            "tags": []
          },
          "execution_count": 129
        }
      ]
    },
    {
      "cell_type": "code",
      "metadata": {
        "id": "MIJTThwEgMs4"
      },
      "source": [
        "# Loss and optimizer\n",
        "criterion = nn.BCEWithLogitsLoss()\n",
        "optimizer = torch.optim.Adam(model.parameters())"
      ],
      "execution_count": null,
      "outputs": []
    },
    {
      "cell_type": "code",
      "metadata": {
        "id": "Ts3EyHKCf7ZS"
      },
      "source": [
        "train_gen = lambda: data_generator(train_sentences_as_int, df_train.b_labels)\n",
        "test_gen = lambda: data_generator(test_sentences_as_int, df_test.b_labels)"
      ],
      "execution_count": null,
      "outputs": []
    },
    {
      "cell_type": "code",
      "metadata": {
        "id": "HiYHRnM6gRz7"
      },
      "source": [
        "# A function to encapsulate the training loop\n",
        "def batch_gd(model, criterion, optimizer, epochs):\n",
        "  train_losses = np.zeros(epochs)\n",
        "  test_losses = np.zeros(epochs)\n",
        "\n",
        "  for it in range(epochs):\n",
        "    t0 = datetime.now()\n",
        "    train_loss = []\n",
        "    for inputs, targets in train_gen():\n",
        "      # print(\"inputs.shape:\", inputs.shape, \"targets.shape:\", targets.shape)\n",
        "      targets = targets.view(-1, 1).float()\n",
        "      # move data to GPU\n",
        "      inputs, targets = inputs.to(device), targets.to(device)\n",
        "\n",
        "      # zero the parameter gradients\n",
        "      optimizer.zero_grad()\n",
        "\n",
        "      # Forward pass\n",
        "      outputs = model(inputs)\n",
        "      loss = criterion(outputs, targets)\n",
        "        \n",
        "      # Backward and optimize\n",
        "      loss.backward()\n",
        "      optimizer.step()\n",
        "\n",
        "      train_loss.append(loss.item())\n",
        "\n",
        "    # Get train loss and test loss\n",
        "    train_loss = np.mean(train_loss) # a little misleading\n",
        "    \n",
        "    test_loss = []\n",
        "    for inputs, targets in test_gen():\n",
        "      inputs, targets = inputs.to(device), targets.to(device)\n",
        "      targets = targets.view(-1, 1).float()\n",
        "      outputs = model(inputs)\n",
        "      loss = criterion(outputs, targets)\n",
        "      test_loss.append(loss.item())\n",
        "    test_loss = np.mean(test_loss)\n",
        "\n",
        "    # Save losses\n",
        "    train_losses[it] = train_loss\n",
        "    test_losses[it] = test_loss\n",
        "    \n",
        "    dt = datetime.now() - t0\n",
        "    print(f'Epoch {it+1}/{epochs}, Train Loss: {train_loss:.4f}, \\\n",
        "      Test Loss: {test_loss:.4f}, Duration: {dt}')\n",
        "  \n",
        "  return train_losses, test_losses"
      ],
      "execution_count": null,
      "outputs": []
    },
    {
      "cell_type": "code",
      "metadata": {
        "id": "T60TTrZKgjEL",
        "colab": {
          "base_uri": "https://localhost:8080/"
        },
        "outputId": "148f63cc-e377-4dd3-adf9-ef89f13aaf41"
      },
      "source": [
        "train_losses, test_losses = batch_gd(\n",
        "    model, criterion, optimizer, 15)"
      ],
      "execution_count": null,
      "outputs": [
        {
          "output_type": "stream",
          "text": [
            "Epoch 1/15, Train Loss: 0.4955,       Test Loss: 0.3883, Duration: 0:00:00.574326\n",
            "Epoch 2/15, Train Loss: 0.3216,       Test Loss: 0.3214, Duration: 0:00:00.521948\n",
            "Epoch 3/15, Train Loss: 0.2565,       Test Loss: 0.2489, Duration: 0:00:00.519016\n",
            "Epoch 4/15, Train Loss: 0.1859,       Test Loss: 0.1910, Duration: 0:00:00.518459\n",
            "Epoch 5/15, Train Loss: 0.1345,       Test Loss: 0.1558, Duration: 0:00:00.514063\n",
            "Epoch 6/15, Train Loss: 0.1015,       Test Loss: 0.1319, Duration: 0:00:00.513503\n",
            "Epoch 7/15, Train Loss: 0.0804,       Test Loss: 0.1240, Duration: 0:00:00.515007\n",
            "Epoch 8/15, Train Loss: 0.0617,       Test Loss: 0.1209, Duration: 0:00:00.521162\n",
            "Epoch 9/15, Train Loss: 0.0483,       Test Loss: 0.1143, Duration: 0:00:00.531674\n",
            "Epoch 10/15, Train Loss: 0.0394,       Test Loss: 0.1135, Duration: 0:00:00.515874\n",
            "Epoch 11/15, Train Loss: 0.0334,       Test Loss: 0.1195, Duration: 0:00:00.514401\n",
            "Epoch 12/15, Train Loss: 0.0283,       Test Loss: 0.1097, Duration: 0:00:00.506772\n",
            "Epoch 13/15, Train Loss: 0.0252,       Test Loss: 0.1117, Duration: 0:00:00.512958\n",
            "Epoch 14/15, Train Loss: 0.0225,       Test Loss: 0.1213, Duration: 0:00:00.506593\n",
            "Epoch 15/15, Train Loss: 0.0172,       Test Loss: 0.1222, Duration: 0:00:00.503961\n"
          ],
          "name": "stdout"
        }
      ]
    },
    {
      "cell_type": "code",
      "metadata": {
        "id": "NoqoPH75j9L3",
        "colab": {
          "base_uri": "https://localhost:8080/",
          "height": 265
        },
        "outputId": "39ff0b58-9809-4334-9eab-dfc8388dedbe"
      },
      "source": [
        "# Plot the train loss and test loss per iteration\n",
        "plt.plot(train_losses, label='train loss')\n",
        "plt.plot(test_losses, label='test loss')\n",
        "plt.legend()\n",
        "plt.show()"
      ],
      "execution_count": null,
      "outputs": [
        {
          "output_type": "display_data",
          "data": {
            "image/png": "[encoded data removed]",
            "text/plain": [
              "<Figure size 432x288 with 1 Axes>"
            ]
          },
          "metadata": {
            "tags": [],
            "needs_background": "light"
          }
        }
      ]
    },
    {
      "cell_type": "code",
      "metadata": {
        "id": "jP-E181MkC0z",
        "colab": {
          "base_uri": "https://localhost:8080/"
        },
        "outputId": "8cdf7e7a-4b9b-4c79-e7f2-5b88d431caf8"
      },
      "source": [
        "# Accuracy\n",
        "\n",
        "n_correct = 0.\n",
        "n_total = 0.\n",
        "for inputs, targets in train_gen():\n",
        "  targets = targets.view(-1, 1).float()\n",
        "  inputs, targets = inputs.to(device), targets.to(device)\n",
        "\n",
        "  # Forward pass\n",
        "  outputs = model(inputs)\n",
        "\n",
        "  # Get prediction\n",
        "  predictions = (outputs > 0)\n",
        "  \n",
        "  # update counts\n",
        "  n_correct += (predictions == targets).sum().item()\n",
        "  n_total += targets.shape[0]\n",
        "\n",
        "train_acc = n_correct / n_total\n",
        "\n",
        "\n",
        "n_correct = 0.\n",
        "n_total = 0.\n",
        "for inputs, targets in test_gen():\n",
        "  targets = targets.view(-1, 1).float()\n",
        "  inputs, targets = inputs.to(device), targets.to(device)\n",
        "\n",
        "  # Forward pass\n",
        "  outputs = model(inputs)\n",
        "\n",
        "  # Get prediction\n",
        "  predictions = (outputs > 0)\n",
        "  \n",
        "  # update counts\n",
        "  n_correct += (predictions == targets).sum().item()\n",
        "  n_total += targets.shape[0]\n",
        "\n",
        "test_acc = n_correct / n_total\n",
        "print(f\"Train acc: {train_acc:.4f}, Test acc: {test_acc:.4f}\")"
      ],
      "execution_count": null,
      "outputs": [
        {
          "output_type": "stream",
          "text": [
            "Train acc: 0.9981, Test acc: 0.9717\n"
          ],
          "name": "stdout"
        }
      ]
    },
    {
      "cell_type": "code",
      "metadata": {
        "id": "CCv_H7iWkXlj",
        "colab": {
          "base_uri": "https://localhost:8080/",
          "height": 35
        },
        "outputId": "26a58001-6ed8-4c53-ae94-95cc65fb61b1"
      },
      "source": [
        "# pick any random text, or make up your own.\n",
        "# samp = df_test['data'].sample()\n",
        "# print(samp)\n",
        "text = df_test.iloc[1024]['data']\n",
        "text"
      ],
      "execution_count": null,
      "outputs": [
        {
          "output_type": "execute_result",
          "data": {
            "application/vnd.google.colaboratory.intrinsic+json": {
              "type": "string"
            },
            "text/plain": [
              "'Ur balance is now å£600. Next question: Complete the landmark, Big, A. Bob, B. Barry or C. Ben ?. Text A, B or C to 83738. Good luck!'"
            ]
          },
          "metadata": {
            "tags": []
          },
          "execution_count": 151
        }
      ]
    },
    {
      "cell_type": "code",
      "metadata": {
        "id": "pftX44iL0KpL"
      },
      "source": [
        "# convert the text to a sequence of ints\n",
        "tokens = text.lower().split()\n",
        "text_int = [word2idx[token] for token in tokens if token in word2idx]"
      ],
      "execution_count": null,
      "outputs": []
    },
    {
      "cell_type": "code",
      "metadata": {
        "colab": {
          "base_uri": "https://localhost:8080/"
        },
        "id": "CS_KUMKG0hCE",
        "outputId": "c8e8673d-de63-44cc-a7f0-fb613aea8702"
      },
      "source": [
        "# make a torch tensor\n",
        "text_tensor = torch.from_numpy(\n",
        "    np.array([text_int])\n",
        ")\n",
        "text_tensor"
      ],
      "execution_count": null,
      "outputs": [
        {
          "output_type": "execute_result",
          "data": {
            "text/plain": [
              "tensor([[ 437, 6805,  164,  316, 1624, 2327,   71,   25, 7354,   51,  113,   25,\n",
              "          603,   53,  496, 4204]])"
            ]
          },
          "metadata": {
            "tags": []
          },
          "execution_count": 153
        }
      ]
    },
    {
      "cell_type": "code",
      "metadata": {
        "id": "PjlRlhSl0qaU"
      },
      "source": [
        "with torch.no_grad():\n",
        "  out = model(text_tensor.to(device))"
      ],
      "execution_count": null,
      "outputs": []
    },
    {
      "cell_type": "code",
      "metadata": {
        "colab": {
          "base_uri": "https://localhost:8080/"
        },
        "id": "T6ER3juu0xM6",
        "outputId": "843ca3e3-87e3-44e7-c2ec-c5e0f9673118"
      },
      "source": [
        "out"
      ],
      "execution_count": null,
      "outputs": [
        {
          "output_type": "execute_result",
          "data": {
            "text/plain": [
              "tensor([[2.2897]], device='cuda:0')"
            ]
          },
          "metadata": {
            "tags": []
          },
          "execution_count": 155
        }
      ]
    }
  ]
}
